{
 "cells": [
  {
   "cell_type": "code",
   "execution_count": 2,
   "id": "ca4e0bc5",
   "metadata": {},
   "outputs": [],
   "source": [
    "import pandas as pd\n",
    "import numpy as np\n",
    "import matplotlib.pyplot as plt\n",
    "from sklearn import cluster, metrics\n",
    "from sklearn.cluster import KMeans\n",
    "from sklearn.utils import shuffle\n",
    "from pandas.plotting import scatter_matrix\n",
    "import matplotlib.pyplot as plt"
   ]
  },
  {
   "cell_type": "code",
   "execution_count": 3,
   "id": "00825052",
   "metadata": {},
   "outputs": [],
   "source": [
    "def make_shuffle(x):\n",
    "    col = x.columns.tolist()\n",
    "    col = col[1:] + [col[0]]\n",
    "    reorder_data = x[col]\n",
    "    reorder_data = shuffle(reorder_data)\n",
    "    return reorder_data"
   ]
  },
  {
   "cell_type": "code",
   "execution_count": 4,
   "id": "752cdda8",
   "metadata": {},
   "outputs": [
    {
     "data": {
      "text/html": [
       "<div>\n",
       "<style scoped>\n",
       "    .dataframe tbody tr th:only-of-type {\n",
       "        vertical-align: middle;\n",
       "    }\n",
       "\n",
       "    .dataframe tbody tr th {\n",
       "        vertical-align: top;\n",
       "    }\n",
       "\n",
       "    .dataframe thead th {\n",
       "        text-align: right;\n",
       "    }\n",
       "</style>\n",
       "<table border=\"1\" class=\"dataframe\">\n",
       "  <thead>\n",
       "    <tr style=\"text-align: right;\">\n",
       "      <th></th>\n",
       "      <th>Net worth/Assets</th>\n",
       "      <th>Debt ratio %</th>\n",
       "      <th>ROA(C) before interest and depreciation before interest</th>\n",
       "      <th>Per Share Net profit before tax (Yuan ¥)</th>\n",
       "      <th>Bankrupt?</th>\n",
       "    </tr>\n",
       "  </thead>\n",
       "  <tbody>\n",
       "    <tr>\n",
       "      <th>7235</th>\n",
       "      <td>0.844154</td>\n",
       "      <td>0.155846</td>\n",
       "      <td>0.485945</td>\n",
       "      <td>0.180412</td>\n",
       "      <td>1</td>\n",
       "    </tr>\n",
       "    <tr>\n",
       "      <th>4286</th>\n",
       "      <td>0.861928</td>\n",
       "      <td>0.138072</td>\n",
       "      <td>0.475552</td>\n",
       "      <td>0.169993</td>\n",
       "      <td>0</td>\n",
       "    </tr>\n",
       "    <tr>\n",
       "      <th>3316</th>\n",
       "      <td>0.815703</td>\n",
       "      <td>0.184297</td>\n",
       "      <td>0.513674</td>\n",
       "      <td>0.186639</td>\n",
       "      <td>0</td>\n",
       "    </tr>\n",
       "    <tr>\n",
       "      <th>1523</th>\n",
       "      <td>0.880068</td>\n",
       "      <td>0.119932</td>\n",
       "      <td>0.488178</td>\n",
       "      <td>0.170746</td>\n",
       "      <td>0</td>\n",
       "    </tr>\n",
       "    <tr>\n",
       "      <th>6894</th>\n",
       "      <td>0.771745</td>\n",
       "      <td>0.228255</td>\n",
       "      <td>0.442780</td>\n",
       "      <td>0.133874</td>\n",
       "      <td>1</td>\n",
       "    </tr>\n",
       "    <tr>\n",
       "      <th>...</th>\n",
       "      <td>...</td>\n",
       "      <td>...</td>\n",
       "      <td>...</td>\n",
       "      <td>...</td>\n",
       "      <td>...</td>\n",
       "    </tr>\n",
       "    <tr>\n",
       "      <th>6444</th>\n",
       "      <td>0.809580</td>\n",
       "      <td>0.190420</td>\n",
       "      <td>0.424972</td>\n",
       "      <td>0.147190</td>\n",
       "      <td>1</td>\n",
       "    </tr>\n",
       "    <tr>\n",
       "      <th>6661</th>\n",
       "      <td>0.808150</td>\n",
       "      <td>0.191850</td>\n",
       "      <td>0.498070</td>\n",
       "      <td>0.164069</td>\n",
       "      <td>1</td>\n",
       "    </tr>\n",
       "    <tr>\n",
       "      <th>139</th>\n",
       "      <td>0.952626</td>\n",
       "      <td>0.047374</td>\n",
       "      <td>0.571832</td>\n",
       "      <td>0.212021</td>\n",
       "      <td>0</td>\n",
       "    </tr>\n",
       "    <tr>\n",
       "      <th>7145</th>\n",
       "      <td>0.824381</td>\n",
       "      <td>0.175619</td>\n",
       "      <td>0.462153</td>\n",
       "      <td>0.161361</td>\n",
       "      <td>1</td>\n",
       "    </tr>\n",
       "    <tr>\n",
       "      <th>1148</th>\n",
       "      <td>0.878435</td>\n",
       "      <td>0.121565</td>\n",
       "      <td>0.490031</td>\n",
       "      <td>0.177977</td>\n",
       "      <td>0</td>\n",
       "    </tr>\n",
       "  </tbody>\n",
       "</table>\n",
       "<p>9262 rows × 5 columns</p>\n",
       "</div>"
      ],
      "text/plain": [
       "       Net worth/Assets   Debt ratio %  \\\n",
       "7235           0.844154       0.155846   \n",
       "4286           0.861928       0.138072   \n",
       "3316           0.815703       0.184297   \n",
       "1523           0.880068       0.119932   \n",
       "6894           0.771745       0.228255   \n",
       "...                 ...            ...   \n",
       "6444           0.809580       0.190420   \n",
       "6661           0.808150       0.191850   \n",
       "139            0.952626       0.047374   \n",
       "7145           0.824381       0.175619   \n",
       "1148           0.878435       0.121565   \n",
       "\n",
       "       ROA(C) before interest and depreciation before interest  \\\n",
       "7235                                           0.485945          \n",
       "4286                                           0.475552          \n",
       "3316                                           0.513674          \n",
       "1523                                           0.488178          \n",
       "6894                                           0.442780          \n",
       "...                                                 ...          \n",
       "6444                                           0.424972          \n",
       "6661                                           0.498070          \n",
       "139                                            0.571832          \n",
       "7145                                           0.462153          \n",
       "1148                                           0.490031          \n",
       "\n",
       "       Per Share Net profit before tax (Yuan ¥)  Bankrupt?  \n",
       "7235                                   0.180412          1  \n",
       "4286                                   0.169993          0  \n",
       "3316                                   0.186639          0  \n",
       "1523                                   0.170746          0  \n",
       "6894                                   0.133874          1  \n",
       "...                                         ...        ...  \n",
       "6444                                   0.147190          1  \n",
       "6661                                   0.164069          1  \n",
       "139                                    0.212021          0  \n",
       "7145                                   0.161361          1  \n",
       "1148                                   0.177977          0  \n",
       "\n",
       "[9262 rows x 5 columns]"
      ]
     },
     "execution_count": 4,
     "metadata": {},
     "output_type": "execute_result"
    }
   ],
   "source": [
    "path = \"./bankruptcy_HW1_train.csv\"\n",
    "data = pd.read_csv(path).drop([\"Unnamed: 0\"],axis=1)\n",
    "data = make_shuffle(data)\n",
    "data"
   ]
  },
  {
   "cell_type": "code",
   "execution_count": 5,
   "id": "0d5144c0",
   "metadata": {},
   "outputs": [
    {
     "data": {
      "text/html": [
       "<div>\n",
       "<style scoped>\n",
       "    .dataframe tbody tr th:only-of-type {\n",
       "        vertical-align: middle;\n",
       "    }\n",
       "\n",
       "    .dataframe tbody tr th {\n",
       "        vertical-align: top;\n",
       "    }\n",
       "\n",
       "    .dataframe thead th {\n",
       "        text-align: right;\n",
       "    }\n",
       "</style>\n",
       "<table border=\"1\" class=\"dataframe\">\n",
       "  <thead>\n",
       "    <tr style=\"text-align: right;\">\n",
       "      <th></th>\n",
       "      <th>Net worth/Assets</th>\n",
       "      <th>Debt ratio %</th>\n",
       "      <th>ROA(C) before interest and depreciation before interest</th>\n",
       "      <th>Per Share Net profit before tax (Yuan ¥)</th>\n",
       "      <th>Bankrupt?</th>\n",
       "    </tr>\n",
       "  </thead>\n",
       "  <tbody>\n",
       "    <tr>\n",
       "      <th>7235</th>\n",
       "      <td>0.844154</td>\n",
       "      <td>0.155846</td>\n",
       "      <td>0.485945</td>\n",
       "      <td>0.180412</td>\n",
       "      <td>1</td>\n",
       "    </tr>\n",
       "    <tr>\n",
       "      <th>4286</th>\n",
       "      <td>0.861928</td>\n",
       "      <td>0.138072</td>\n",
       "      <td>0.475552</td>\n",
       "      <td>0.169993</td>\n",
       "      <td>0</td>\n",
       "    </tr>\n",
       "    <tr>\n",
       "      <th>3316</th>\n",
       "      <td>0.815703</td>\n",
       "      <td>0.184297</td>\n",
       "      <td>0.513674</td>\n",
       "      <td>0.186639</td>\n",
       "      <td>0</td>\n",
       "    </tr>\n",
       "    <tr>\n",
       "      <th>1523</th>\n",
       "      <td>0.880068</td>\n",
       "      <td>0.119932</td>\n",
       "      <td>0.488178</td>\n",
       "      <td>0.170746</td>\n",
       "      <td>0</td>\n",
       "    </tr>\n",
       "    <tr>\n",
       "      <th>6894</th>\n",
       "      <td>0.771745</td>\n",
       "      <td>0.228255</td>\n",
       "      <td>0.442780</td>\n",
       "      <td>0.133874</td>\n",
       "      <td>1</td>\n",
       "    </tr>\n",
       "    <tr>\n",
       "      <th>...</th>\n",
       "      <td>...</td>\n",
       "      <td>...</td>\n",
       "      <td>...</td>\n",
       "      <td>...</td>\n",
       "      <td>...</td>\n",
       "    </tr>\n",
       "    <tr>\n",
       "      <th>6444</th>\n",
       "      <td>0.809580</td>\n",
       "      <td>0.190420</td>\n",
       "      <td>0.424972</td>\n",
       "      <td>0.147190</td>\n",
       "      <td>1</td>\n",
       "    </tr>\n",
       "    <tr>\n",
       "      <th>6661</th>\n",
       "      <td>0.808150</td>\n",
       "      <td>0.191850</td>\n",
       "      <td>0.498070</td>\n",
       "      <td>0.164069</td>\n",
       "      <td>1</td>\n",
       "    </tr>\n",
       "    <tr>\n",
       "      <th>139</th>\n",
       "      <td>0.952626</td>\n",
       "      <td>0.047374</td>\n",
       "      <td>0.571832</td>\n",
       "      <td>0.212021</td>\n",
       "      <td>0</td>\n",
       "    </tr>\n",
       "    <tr>\n",
       "      <th>7145</th>\n",
       "      <td>0.824381</td>\n",
       "      <td>0.175619</td>\n",
       "      <td>0.462153</td>\n",
       "      <td>0.161361</td>\n",
       "      <td>1</td>\n",
       "    </tr>\n",
       "    <tr>\n",
       "      <th>1148</th>\n",
       "      <td>0.878435</td>\n",
       "      <td>0.121565</td>\n",
       "      <td>0.490031</td>\n",
       "      <td>0.177977</td>\n",
       "      <td>0</td>\n",
       "    </tr>\n",
       "  </tbody>\n",
       "</table>\n",
       "<p>9262 rows × 5 columns</p>\n",
       "</div>"
      ],
      "text/plain": [
       "       Net worth/Assets   Debt ratio %  \\\n",
       "7235           0.844154       0.155846   \n",
       "4286           0.861928       0.138072   \n",
       "3316           0.815703       0.184297   \n",
       "1523           0.880068       0.119932   \n",
       "6894           0.771745       0.228255   \n",
       "...                 ...            ...   \n",
       "6444           0.809580       0.190420   \n",
       "6661           0.808150       0.191850   \n",
       "139            0.952626       0.047374   \n",
       "7145           0.824381       0.175619   \n",
       "1148           0.878435       0.121565   \n",
       "\n",
       "       ROA(C) before interest and depreciation before interest  \\\n",
       "7235                                           0.485945          \n",
       "4286                                           0.475552          \n",
       "3316                                           0.513674          \n",
       "1523                                           0.488178          \n",
       "6894                                           0.442780          \n",
       "...                                                 ...          \n",
       "6444                                           0.424972          \n",
       "6661                                           0.498070          \n",
       "139                                            0.571832          \n",
       "7145                                           0.462153          \n",
       "1148                                           0.490031          \n",
       "\n",
       "       Per Share Net profit before tax (Yuan ¥)  Bankrupt?  \n",
       "7235                                   0.180412          1  \n",
       "4286                                   0.169993          0  \n",
       "3316                                   0.186639          0  \n",
       "1523                                   0.170746          0  \n",
       "6894                                   0.133874          1  \n",
       "...                                         ...        ...  \n",
       "6444                                   0.147190          1  \n",
       "6661                                   0.164069          1  \n",
       "139                                    0.212021          0  \n",
       "7145                                   0.161361          1  \n",
       "1148                                   0.177977          0  \n",
       "\n",
       "[9262 rows x 5 columns]"
      ]
     },
     "execution_count": 5,
     "metadata": {},
     "output_type": "execute_result"
    }
   ],
   "source": [
    "# data_without_label = data.drop([\"Bankrupt?\"],axis=1)\n",
    "data_without_label = data\n",
    "data_without_label"
   ]
  },
  {
   "cell_type": "markdown",
   "id": "cb9449c9",
   "metadata": {},
   "source": [
    "## Use kmeans to get the membership function"
   ]
  },
  {
   "cell_type": "code",
   "execution_count": 6,
   "id": "e234b81f",
   "metadata": {},
   "outputs": [
    {
     "data": {
      "text/html": [
       "<div>\n",
       "<style scoped>\n",
       "    .dataframe tbody tr th:only-of-type {\n",
       "        vertical-align: middle;\n",
       "    }\n",
       "\n",
       "    .dataframe tbody tr th {\n",
       "        vertical-align: top;\n",
       "    }\n",
       "\n",
       "    .dataframe thead th {\n",
       "        text-align: right;\n",
       "    }\n",
       "</style>\n",
       "<table border=\"1\" class=\"dataframe\">\n",
       "  <thead>\n",
       "    <tr style=\"text-align: right;\">\n",
       "      <th></th>\n",
       "      <th>predict</th>\n",
       "    </tr>\n",
       "  </thead>\n",
       "  <tbody>\n",
       "    <tr>\n",
       "      <th>0</th>\n",
       "      <td>0</td>\n",
       "    </tr>\n",
       "    <tr>\n",
       "      <th>1</th>\n",
       "      <td>1</td>\n",
       "    </tr>\n",
       "    <tr>\n",
       "      <th>2</th>\n",
       "      <td>1</td>\n",
       "    </tr>\n",
       "    <tr>\n",
       "      <th>3</th>\n",
       "      <td>1</td>\n",
       "    </tr>\n",
       "    <tr>\n",
       "      <th>4</th>\n",
       "      <td>0</td>\n",
       "    </tr>\n",
       "    <tr>\n",
       "      <th>...</th>\n",
       "      <td>...</td>\n",
       "    </tr>\n",
       "    <tr>\n",
       "      <th>9257</th>\n",
       "      <td>0</td>\n",
       "    </tr>\n",
       "    <tr>\n",
       "      <th>9258</th>\n",
       "      <td>0</td>\n",
       "    </tr>\n",
       "    <tr>\n",
       "      <th>9259</th>\n",
       "      <td>1</td>\n",
       "    </tr>\n",
       "    <tr>\n",
       "      <th>9260</th>\n",
       "      <td>0</td>\n",
       "    </tr>\n",
       "    <tr>\n",
       "      <th>9261</th>\n",
       "      <td>1</td>\n",
       "    </tr>\n",
       "  </tbody>\n",
       "</table>\n",
       "<p>9262 rows × 1 columns</p>\n",
       "</div>"
      ],
      "text/plain": [
       "      predict\n",
       "0           0\n",
       "1           1\n",
       "2           1\n",
       "3           1\n",
       "4           0\n",
       "...       ...\n",
       "9257        0\n",
       "9258        0\n",
       "9259        1\n",
       "9260        0\n",
       "9261        1\n",
       "\n",
       "[9262 rows x 1 columns]"
      ]
     },
     "execution_count": 6,
     "metadata": {},
     "output_type": "execute_result"
    }
   ],
   "source": [
    "kmeans_fit = cluster.KMeans(n_clusters = 2 ).fit(data_without_label)\n",
    "cluster_labels = kmeans_fit.labels_\n",
    "cluster_labels = pd.DataFrame(cluster_labels, columns = ['predict'])\n",
    "cluster_labels"
   ]
  },
  {
   "cell_type": "code",
   "execution_count": 7,
   "id": "64b76e79",
   "metadata": {},
   "outputs": [
    {
     "name": "stderr",
     "output_type": "stream",
     "text": [
      "<ipython-input-7-5a7fa808a6a2>:3: UserWarning: Boolean Series key will be reindexed to match DataFrame index.\n",
      "  cluster1_data = data[cluster1_index]\n",
      "<ipython-input-7-5a7fa808a6a2>:4: UserWarning: Boolean Series key will be reindexed to match DataFrame index.\n",
      "  cluster2_data = data[cluster2_index]\n"
     ]
    }
   ],
   "source": [
    "cluster1_index = cluster_labels[\"predict\"]==1\n",
    "cluster2_index = cluster_labels[\"predict\"]==0\n",
    "cluster1_data = data[cluster1_index]\n",
    "cluster2_data = data[cluster2_index]"
   ]
  },
  {
   "cell_type": "code",
   "execution_count": 8,
   "id": "409ef776",
   "metadata": {},
   "outputs": [
    {
     "name": "stdout",
     "output_type": "stream",
     "text": [
      "2301.0\n",
      "2330.0\n"
     ]
    }
   ],
   "source": [
    "print(np.array(cluster1_data['Bankrupt?']==1, dtype=float).sum())\n",
    "print(np.array(cluster1_data['Bankrupt?']==0, dtype=float).sum())"
   ]
  },
  {
   "cell_type": "code",
   "execution_count": 9,
   "id": "d41138ee",
   "metadata": {},
   "outputs": [],
   "source": [
    "cluster1_mean = cluster1_data.mean()\n",
    "cluster2_mean = cluster2_data.mean()\n",
    "cluster1_std = cluster1_data.std()\n",
    "cluster2_std = cluster2_data.std()\n",
    "\n",
    "\n",
    "ship = {\"c1mean\":cluster1_mean, \"c2mean\":cluster2_mean, \"c1_std\":cluster1_std, \"c2_std\":cluster2_std}"
   ]
  },
  {
   "cell_type": "code",
   "execution_count": 10,
   "id": "3b79971e",
   "metadata": {},
   "outputs": [
    {
     "name": "stdout",
     "output_type": "stream",
     "text": [
      "{'c1mean':  Net worth/Assets                                           0.851372\n",
      " Debt ratio %                                               0.148708\n",
      " ROA(C) before interest and depreciation before interest    0.464095\n",
      " Per Share Net profit before tax (Yuan ¥)                   0.167078\n",
      "Bankrupt?                                                   0.496869\n",
      "dtype: float64, 'c2mean':  Net worth/Assets                                           0.850839\n",
      " Debt ratio %                                               0.149438\n",
      " ROA(C) before interest and depreciation before interest    0.463606\n",
      " Per Share Net profit before tax (Yuan ¥)                   0.166477\n",
      "Bankrupt?                                                   0.503131\n",
      "dtype: float64, 'c1_std':  Net worth/Assets                                           0.063962\n",
      " Debt ratio %                                               0.063768\n",
      " ROA(C) before interest and depreciation before interest    0.077544\n",
      " Per Share Net profit before tax (Yuan ¥)                   0.032320\n",
      "Bankrupt?                                                   0.500044\n",
      "dtype: float64, 'c2_std':  Net worth/Assets                                           0.065351\n",
      " Debt ratio %                                               0.065348\n",
      " ROA(C) before interest and depreciation before interest    0.078800\n",
      " Per Share Net profit before tax (Yuan ¥)                   0.033633\n",
      "Bankrupt?                                                   0.500044\n",
      "dtype: float64}\n"
     ]
    }
   ],
   "source": [
    "# np.save(\"membership.npy\", membership)\n",
    "# x = np.load(\"./membership.npy\", allow_pickle=True)\n",
    "print(ship)"
   ]
  },
  {
   "cell_type": "markdown",
   "id": "65755eda",
   "metadata": {},
   "source": [
    "## use anfis "
   ]
  },
  {
   "cell_type": "code",
   "execution_count": 11,
   "id": "2e76e542",
   "metadata": {},
   "outputs": [],
   "source": [
    "import anfis\n",
    "from anfis import predict \n",
    "import membership.mfDerivs\n",
    "import membership.membershipfunction\n",
    "from sklearn.metrics import classification_report"
   ]
  },
  {
   "cell_type": "markdown",
   "id": "5a879087",
   "metadata": {},
   "source": [
    "### test/train"
   ]
  },
  {
   "cell_type": "code",
   "execution_count": 12,
   "id": "872aaf73",
   "metadata": {},
   "outputs": [],
   "source": [
    "test_data = pd.read_csv(\"bankruptcy_HW1_test.csv\").drop([\"Unnamed: 0\"],axis=1)\n",
    "test = np.array(make_shuffle(test_data))\n",
    "X_test, y_test = test[:, 0:4], test[:, 4]\n",
    "\n",
    "train = np.array(data)\n",
    "X, Y = train[:, 0:4], train[:, 4]"
   ]
  },
  {
   "cell_type": "code",
   "execution_count": 13,
   "id": "6f9fdca7",
   "metadata": {},
   "outputs": [],
   "source": [
    "mf = [\n",
    "        [['gaussmf',{'mean':ship[\"c1mean\"][0],'sigma':ship[\"c1_std\"][0]}],['gaussmf',{'mean':ship[\"c2mean\"][0],'sigma': ship[\"c2_std\"][0]}]],\n",
    "        [['gaussmf',{'mean':ship[\"c1mean\"][1],'sigma':ship[\"c1_std\"][1]}],['gaussmf',{'mean':ship[\"c2mean\"][1],'sigma': ship[\"c2_std\"][1]}]],\n",
    "        [['gaussmf',{'mean':ship[\"c1mean\"][2],'sigma':ship[\"c1_std\"][2]}],['gaussmf',{'mean':ship[\"c2mean\"][2],'sigma': ship[\"c2_std\"][2]}]],\n",
    "        [['gaussmf',{'mean':ship[\"c1mean\"][3],'sigma':ship[\"c1_std\"][3]}],['gaussmf',{'mean':ship[\"c2mean\"][3],'sigma': ship[\"c2_std\"][3]}]]]"
   ]
  },
  {
   "cell_type": "code",
   "execution_count": 15,
   "id": "b019877d",
   "metadata": {},
   "outputs": [
    {
     "name": "stdout",
     "output_type": "stream",
     "text": [
      "current error: 1002.7390197101369\n"
     ]
    },
    {
     "data": {
      "text/plain": [
       "array([[ 0.4382845 ],\n",
       "       [ 0.44017026],\n",
       "       [ 0.4732031 ],\n",
       "       ...,\n",
       "       [-0.08142172],\n",
       "       [ 0.66628265],\n",
       "       [ 0.29944361]])"
      ]
     },
     "execution_count": 15,
     "metadata": {},
     "output_type": "execute_result"
    }
   ],
   "source": [
    "EPOCH = 2\n",
    "mfc = membership.membershipfunction.MemFuncs(mf)\n",
    "anf = anfis.ANFIS(X, Y, mfc)\n",
    "anf.trainHybridJangOffLine(epochs=EPOCH)"
   ]
  },
  {
   "cell_type": "code",
   "execution_count": 16,
   "id": "550230ae",
   "metadata": {},
   "outputs": [],
   "source": [
    "def prediction(anfis, X):\n",
    "    y_pred = np.squeeze(predict(anf, X), axis=1)\n",
    "    y_pred[y_pred >= 0.5] = 1\n",
    "    y_pred[y_pred < 0.5] = 0\n",
    "    return y_pred"
   ]
  },
  {
   "cell_type": "code",
   "execution_count": 17,
   "id": "42d83bed",
   "metadata": {},
   "outputs": [],
   "source": [
    "y_test_pred = prediction(anfis, X_test)\n",
    "y_train_pred = prediction(anfis, X)"
   ]
  },
  {
   "cell_type": "code",
   "execution_count": 18,
   "id": "b03348a9",
   "metadata": {},
   "outputs": [
    {
     "name": "stdout",
     "output_type": "stream",
     "text": [
      "              precision    recall  f1-score   support\n",
      "\n",
      "         0.0       0.99      0.82      0.90      1968\n",
      "         1.0       0.16      0.88      0.28        78\n",
      "\n",
      "    accuracy                           0.82      2046\n",
      "   macro avg       0.58      0.85      0.59      2046\n",
      "weighted avg       0.96      0.82      0.88      2046\n",
      "\n",
      "              precision    recall  f1-score   support\n",
      "\n",
      "         0.0       0.91      0.83      0.87      4631\n",
      "         1.0       0.84      0.92      0.88      4631\n",
      "\n",
      "    accuracy                           0.88      9262\n",
      "   macro avg       0.88      0.88      0.87      9262\n",
      "weighted avg       0.88      0.88      0.87      9262\n",
      "\n"
     ]
    }
   ],
   "source": [
    "print(classification_report(y_test, y_test_pred))\n",
    "print(classification_report(Y, y_train_pred))"
   ]
  },
  {
   "cell_type": "code",
   "execution_count": null,
   "id": "f9a143d1",
   "metadata": {},
   "outputs": [],
   "source": [
    "FP = []\n",
    "for i in range(len(y_test)):\n",
    "    if y_test[i] == 0 and y_test_pred[i]==1:\n",
    "        FP.append(i)"
   ]
  },
  {
   "cell_type": "code",
   "execution_count": 100,
   "id": "c3703e98",
   "metadata": {},
   "outputs": [
    {
     "data": {
      "text/plain": [
       "array([[0.78562143, 0.21437857, 0.50246185, 0.17368381],\n",
       "       [0.86350032, 0.13649968, 0.46433969, 0.17217745],\n",
       "       [0.79106328, 0.20893672, 0.47686833, 0.1732319 ],\n",
       "       ...,\n",
       "       [0.8330562 , 0.1669438 , 0.45288354, 0.16381713],\n",
       "       [0.76990054, 0.23009946, 0.56934627, 0.19070573],\n",
       "       [0.8378934 , 0.1621066 , 0.46463218, 0.16298863]])"
      ]
     },
     "execution_count": 100,
     "metadata": {},
     "output_type": "execute_result"
    }
   ],
   "source": [
    "X_test[FP]"
   ]
  }
 ],
 "metadata": {
  "kernelspec": {
   "display_name": "Python 3",
   "language": "python",
   "name": "python3"
  },
  "language_info": {
   "codemirror_mode": {
    "name": "ipython",
    "version": 3
   },
   "file_extension": ".py",
   "mimetype": "text/x-python",
   "name": "python",
   "nbconvert_exporter": "python",
   "pygments_lexer": "ipython3",
   "version": "3.8.10"
  }
 },
 "nbformat": 4,
 "nbformat_minor": 5
}
