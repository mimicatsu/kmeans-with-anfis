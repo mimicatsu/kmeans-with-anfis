{
 "cells": [
  {
   "cell_type": "code",
   "execution_count": 1,
   "id": "26014506",
   "metadata": {},
   "outputs": [],
   "source": [
    "import pandas as pd\n",
    "import numpy as np\n",
    "import matplotlib.pyplot as plt\n",
    "from sklearn import cluster, metrics\n",
    "from sklearn.utils import shuffle\n",
    "import matplotlib.pyplot as plt"
   ]
  },
  {
   "cell_type": "code",
   "execution_count": 2,
   "id": "862fdc95",
   "metadata": {},
   "outputs": [],
   "source": [
    "def reorder(x):\n",
    "    col = x.columns.tolist()\n",
    "    col = col[1:] + [col[0]]\n",
    "    reorder_data = x[col]\n",
    "    return reorder_data"
   ]
  },
  {
   "cell_type": "code",
   "execution_count": 3,
   "id": "afe79838",
   "metadata": {},
   "outputs": [
    {
     "data": {
      "text/html": [
       "<div>\n",
       "<style scoped>\n",
       "    .dataframe tbody tr th:only-of-type {\n",
       "        vertical-align: middle;\n",
       "    }\n",
       "\n",
       "    .dataframe tbody tr th {\n",
       "        vertical-align: top;\n",
       "    }\n",
       "\n",
       "    .dataframe thead th {\n",
       "        text-align: right;\n",
       "    }\n",
       "</style>\n",
       "<table border=\"1\" class=\"dataframe\">\n",
       "  <thead>\n",
       "    <tr style=\"text-align: right;\">\n",
       "      <th></th>\n",
       "      <th>Net worth/Assets</th>\n",
       "      <th>Debt ratio %</th>\n",
       "      <th>Per Share Net profit before tax (Yuan ¥)</th>\n",
       "      <th>ROA(C) before interest and depreciation before interest</th>\n",
       "      <th>Bankrupt?</th>\n",
       "    </tr>\n",
       "  </thead>\n",
       "  <tbody>\n",
       "    <tr>\n",
       "      <th>0</th>\n",
       "      <td>0.888200</td>\n",
       "      <td>0.111800</td>\n",
       "      <td>0.184454</td>\n",
       "      <td>0.500951</td>\n",
       "      <td>0</td>\n",
       "    </tr>\n",
       "    <tr>\n",
       "      <th>1</th>\n",
       "      <td>0.847689</td>\n",
       "      <td>0.152311</td>\n",
       "      <td>0.166755</td>\n",
       "      <td>0.479647</td>\n",
       "      <td>0</td>\n",
       "    </tr>\n",
       "    <tr>\n",
       "      <th>2</th>\n",
       "      <td>0.966895</td>\n",
       "      <td>0.033105</td>\n",
       "      <td>0.181969</td>\n",
       "      <td>0.516502</td>\n",
       "      <td>0</td>\n",
       "    </tr>\n",
       "    <tr>\n",
       "      <th>3</th>\n",
       "      <td>0.906310</td>\n",
       "      <td>0.093690</td>\n",
       "      <td>0.167960</td>\n",
       "      <td>0.446302</td>\n",
       "      <td>0</td>\n",
       "    </tr>\n",
       "    <tr>\n",
       "      <th>4</th>\n",
       "      <td>0.882396</td>\n",
       "      <td>0.117604</td>\n",
       "      <td>0.179935</td>\n",
       "      <td>0.575245</td>\n",
       "      <td>0</td>\n",
       "    </tr>\n",
       "    <tr>\n",
       "      <th>...</th>\n",
       "      <td>...</td>\n",
       "      <td>...</td>\n",
       "      <td>...</td>\n",
       "      <td>...</td>\n",
       "      <td>...</td>\n",
       "    </tr>\n",
       "    <tr>\n",
       "      <th>9257</th>\n",
       "      <td>0.824272</td>\n",
       "      <td>0.175728</td>\n",
       "      <td>0.161288</td>\n",
       "      <td>0.467220</td>\n",
       "      <td>1</td>\n",
       "    </tr>\n",
       "    <tr>\n",
       "      <th>9258</th>\n",
       "      <td>0.786659</td>\n",
       "      <td>0.213341</td>\n",
       "      <td>0.174660</td>\n",
       "      <td>0.494583</td>\n",
       "      <td>1</td>\n",
       "    </tr>\n",
       "    <tr>\n",
       "      <th>9259</th>\n",
       "      <td>0.806011</td>\n",
       "      <td>0.193989</td>\n",
       "      <td>0.193313</td>\n",
       "      <td>0.494676</td>\n",
       "      <td>1</td>\n",
       "    </tr>\n",
       "    <tr>\n",
       "      <th>9260</th>\n",
       "      <td>0.872011</td>\n",
       "      <td>0.127989</td>\n",
       "      <td>0.155082</td>\n",
       "      <td>0.417124</td>\n",
       "      <td>1</td>\n",
       "    </tr>\n",
       "    <tr>\n",
       "      <th>9261</th>\n",
       "      <td>0.837775</td>\n",
       "      <td>0.162225</td>\n",
       "      <td>0.166181</td>\n",
       "      <td>0.463788</td>\n",
       "      <td>1</td>\n",
       "    </tr>\n",
       "  </tbody>\n",
       "</table>\n",
       "<p>9262 rows × 5 columns</p>\n",
       "</div>"
      ],
      "text/plain": [
       "       Net worth/Assets   Debt ratio %  \\\n",
       "0              0.888200       0.111800   \n",
       "1              0.847689       0.152311   \n",
       "2              0.966895       0.033105   \n",
       "3              0.906310       0.093690   \n",
       "4              0.882396       0.117604   \n",
       "...                 ...            ...   \n",
       "9257           0.824272       0.175728   \n",
       "9258           0.786659       0.213341   \n",
       "9259           0.806011       0.193989   \n",
       "9260           0.872011       0.127989   \n",
       "9261           0.837775       0.162225   \n",
       "\n",
       "       Per Share Net profit before tax (Yuan ¥)  \\\n",
       "0                                      0.184454   \n",
       "1                                      0.166755   \n",
       "2                                      0.181969   \n",
       "3                                      0.167960   \n",
       "4                                      0.179935   \n",
       "...                                         ...   \n",
       "9257                                   0.161288   \n",
       "9258                                   0.174660   \n",
       "9259                                   0.193313   \n",
       "9260                                   0.155082   \n",
       "9261                                   0.166181   \n",
       "\n",
       "       ROA(C) before interest and depreciation before interest  Bankrupt?  \n",
       "0                                              0.500951                 0  \n",
       "1                                              0.479647                 0  \n",
       "2                                              0.516502                 0  \n",
       "3                                              0.446302                 0  \n",
       "4                                              0.575245                 0  \n",
       "...                                                 ...               ...  \n",
       "9257                                           0.467220                 1  \n",
       "9258                                           0.494583                 1  \n",
       "9259                                           0.494676                 1  \n",
       "9260                                           0.417124                 1  \n",
       "9261                                           0.463788                 1  \n",
       "\n",
       "[9262 rows x 5 columns]"
      ]
     },
     "execution_count": 3,
     "metadata": {},
     "output_type": "execute_result"
    }
   ],
   "source": [
    "path = \"../bankruptcy_HW1_train.csv\"\n",
    "data = pd.read_csv(path).drop([\"Unnamed: 0\"],axis=1)\n",
    "data = reorder(data)\n",
    "data"
   ]
  },
  {
   "cell_type": "code",
   "execution_count": 4,
   "id": "e8f99b08",
   "metadata": {},
   "outputs": [],
   "source": [
    "from sklearn.linear_model import SGDClassifier"
   ]
  },
  {
   "cell_type": "code",
   "execution_count": 5,
   "id": "029c1e9f",
   "metadata": {},
   "outputs": [
    {
     "data": {
      "text/plain": [
       "SGDClassifier()"
      ]
     },
     "execution_count": 5,
     "metadata": {},
     "output_type": "execute_result"
    }
   ],
   "source": [
    "clf = SGDClassifier(loss=\"hinge\", penalty=\"l2\", max_iter=1000)\n",
    "train = np.array(data)\n",
    "train = shuffle(train)\n",
    "X, y = train[:, 0:4], train[:, 4]\n",
    "clf.fit(X, y)"
   ]
  },
  {
   "cell_type": "code",
   "execution_count": 6,
   "id": "b421b5c5",
   "metadata": {},
   "outputs": [
    {
     "data": {
      "text/plain": [
       "array([1., 0., 0., ..., 1., 0., 1.])"
      ]
     },
     "execution_count": 6,
     "metadata": {},
     "output_type": "execute_result"
    }
   ],
   "source": [
    "y_train_pred=clf.predict(X)\n",
    "y_train_pred"
   ]
  },
  {
   "cell_type": "code",
   "execution_count": 7,
   "id": "8b6960c9",
   "metadata": {},
   "outputs": [
    {
     "data": {
      "text/plain": [
       "SGDClassifier()"
      ]
     },
     "execution_count": 7,
     "metadata": {},
     "output_type": "execute_result"
    }
   ],
   "source": [
    "test_data = pd.read_csv(\"../bankruptcy_HW1_test.csv\").drop([\"Unnamed: 0\"],axis=1)\n",
    "test = reorder(test_data)\n",
    "test = np.array(shuffle(test))\n",
    "X_test, y_test = test[:, 0:4], test[:, 4]\n",
    "clf.fit(X_test, y_test)"
   ]
  },
  {
   "cell_type": "code",
   "execution_count": 8,
   "id": "94285abd",
   "metadata": {
    "scrolled": true
   },
   "outputs": [
    {
     "data": {
      "text/plain": [
       "array([0., 0., 0., ..., 0., 0., 0.])"
      ]
     },
     "execution_count": 8,
     "metadata": {},
     "output_type": "execute_result"
    }
   ],
   "source": [
    "y_test_pred=clf.predict(X_test)\n",
    "y_test_pred"
   ]
  },
  {
   "cell_type": "code",
   "execution_count": 9,
   "id": "c681b71c",
   "metadata": {},
   "outputs": [
    {
     "name": "stdout",
     "output_type": "stream",
     "text": [
      "Accuracy_train: 0.8704383502483265\n",
      "              precision    recall  f1-score   support\n",
      "\n",
      "         0.0       0.92      0.82      0.86      4631\n",
      "         1.0       0.83      0.92      0.88      4631\n",
      "\n",
      "    accuracy                           0.87      9262\n",
      "   macro avg       0.87      0.87      0.87      9262\n",
      "weighted avg       0.87      0.87      0.87      9262\n",
      "\n",
      "Accuracy_test: 0.9643206256109482\n",
      "              precision    recall  f1-score   support\n",
      "\n",
      "         0.0       0.97      1.00      0.98      1968\n",
      "         1.0       0.73      0.10      0.18        78\n",
      "\n",
      "    accuracy                           0.96      2046\n",
      "   macro avg       0.85      0.55      0.58      2046\n",
      "weighted avg       0.96      0.96      0.95      2046\n",
      "\n"
     ]
    }
   ],
   "source": [
    "from sklearn.metrics import accuracy_score\n",
    "from sklearn.metrics import classification_report\n",
    "print(\"Accuracy_train:\",accuracy_score(y, y_train_pred))\n",
    "print(classification_report(y, y_train_pred))\n",
    "print(\"Accuracy_test:\",accuracy_score(y_test, y_test_pred))\n",
    "print(classification_report(y_test, y_test_pred))"
   ]
  },
  {
   "cell_type": "code",
   "execution_count": 10,
   "id": "c60f4946",
   "metadata": {},
   "outputs": [],
   "source": [
    "from sklearn.ensemble import AdaBoostClassifier"
   ]
  },
  {
   "cell_type": "code",
   "execution_count": 11,
   "id": "388699e6",
   "metadata": {},
   "outputs": [
    {
     "data": {
      "text/plain": [
       "AdaBoostClassifier(n_estimators=100, random_state=0)"
      ]
     },
     "execution_count": 11,
     "metadata": {},
     "output_type": "execute_result"
    }
   ],
   "source": [
    "clf = AdaBoostClassifier(n_estimators=100, random_state=0)\n",
    "train = np.array(data)\n",
    "train = shuffle(train)\n",
    "X, y = train[:, 0:4], train[:, 4]\n",
    "clf.fit(X, y)"
   ]
  },
  {
   "cell_type": "code",
   "execution_count": 12,
   "id": "21452f7c",
   "metadata": {},
   "outputs": [
    {
     "data": {
      "text/plain": [
       "array([0., 1., 0., ..., 1., 0., 0.])"
      ]
     },
     "execution_count": 12,
     "metadata": {},
     "output_type": "execute_result"
    }
   ],
   "source": [
    "y_train_pred=clf.predict(X)\n",
    "y_train_pred"
   ]
  },
  {
   "cell_type": "code",
   "execution_count": 13,
   "id": "52ce3374",
   "metadata": {},
   "outputs": [
    {
     "data": {
      "text/plain": [
       "AdaBoostClassifier(n_estimators=100, random_state=0)"
      ]
     },
     "execution_count": 13,
     "metadata": {},
     "output_type": "execute_result"
    }
   ],
   "source": [
    "test_data = pd.read_csv(\"../bankruptcy_HW1_test.csv\").drop([\"Unnamed: 0\"],axis=1)\n",
    "test = reorder(test_data)\n",
    "test = np.array(shuffle(test))\n",
    "X_test, y_test = test[:, 0:4], test[:, 4]\n",
    "clf.fit(X_test, y_test)"
   ]
  },
  {
   "cell_type": "code",
   "execution_count": 14,
   "id": "920ca5f0",
   "metadata": {},
   "outputs": [
    {
     "data": {
      "text/plain": [
       "array([0., 0., 0., ..., 0., 0., 0.])"
      ]
     },
     "execution_count": 14,
     "metadata": {},
     "output_type": "execute_result"
    }
   ],
   "source": [
    "y_test_pred=clf.predict(X_test)\n",
    "y_test_pred"
   ]
  },
  {
   "cell_type": "code",
   "execution_count": 15,
   "id": "03909dbe",
   "metadata": {
    "scrolled": true
   },
   "outputs": [
    {
     "name": "stdout",
     "output_type": "stream",
     "text": [
      "Accuracy_train: 0.8843662275966314\n",
      "              precision    recall  f1-score   support\n",
      "\n",
      "         0.0       0.91      0.85      0.88      4631\n",
      "         1.0       0.86      0.92      0.89      4631\n",
      "\n",
      "    accuracy                           0.88      9262\n",
      "   macro avg       0.89      0.88      0.88      9262\n",
      "weighted avg       0.89      0.88      0.88      9262\n",
      "\n",
      "Accuracy_test: 0.9745845552297165\n",
      "              precision    recall  f1-score   support\n",
      "\n",
      "         0.0       0.98      1.00      0.99      1968\n",
      "         1.0       0.91      0.37      0.53        78\n",
      "\n",
      "    accuracy                           0.97      2046\n",
      "   macro avg       0.94      0.69      0.76      2046\n",
      "weighted avg       0.97      0.97      0.97      2046\n",
      "\n"
     ]
    }
   ],
   "source": [
    "from sklearn.metrics import accuracy_score\n",
    "from sklearn.metrics import classification_report\n",
    "print(\"Accuracy_train:\",accuracy_score(y, y_train_pred))\n",
    "print(classification_report(y, y_train_pred))\n",
    "print(\"Accuracy_test:\",accuracy_score(y_test, y_test_pred))\n",
    "print(classification_report(y_test, y_test_pred))"
   ]
  }
 ],
 "metadata": {
  "kernelspec": {
   "display_name": "Python 3",
   "language": "python",
   "name": "python3"
  },
  "language_info": {
   "codemirror_mode": {
    "name": "ipython",
    "version": 3
   },
   "file_extension": ".py",
   "mimetype": "text/x-python",
   "name": "python",
   "nbconvert_exporter": "python",
   "pygments_lexer": "ipython3",
   "version": "3.8.8"
  }
 },
 "nbformat": 4,
 "nbformat_minor": 5
}
