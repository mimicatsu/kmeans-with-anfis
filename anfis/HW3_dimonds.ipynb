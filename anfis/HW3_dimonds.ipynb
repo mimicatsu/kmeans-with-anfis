{
 "cells": [
  {
   "cell_type": "code",
   "execution_count": 1,
   "id": "db9ecaca",
   "metadata": {},
   "outputs": [],
   "source": [
    "import pandas as pd\n",
    "import numpy as np\n",
    "import matplotlib.pyplot as plt\n",
    "from sklearn import cluster, metrics\n",
    "from sklearn.cluster import KMeans\n",
    "from sklearn.utils import shuffle\n",
    "from pandas.plotting import scatter_matrix\n",
    "import matplotlib.pyplot as plt"
   ]
  },
  {
   "cell_type": "code",
   "execution_count": 2,
   "id": "e3727b65",
   "metadata": {},
   "outputs": [],
   "source": [
    "def reorder(x):\n",
    "    col = x.columns.tolist()\n",
    "    col = col[1:] + [col[0]]\n",
    "    reorder_data = x[col]\n",
    "    return reorder_data"
   ]
  },
  {
   "cell_type": "code",
   "execution_count": 3,
   "id": "89cc1b91",
   "metadata": {},
   "outputs": [
    {
     "data": {
      "text/html": [
       "<div>\n",
       "<style scoped>\n",
       "    .dataframe tbody tr th:only-of-type {\n",
       "        vertical-align: middle;\n",
       "    }\n",
       "\n",
       "    .dataframe tbody tr th {\n",
       "        vertical-align: top;\n",
       "    }\n",
       "\n",
       "    .dataframe thead th {\n",
       "        text-align: right;\n",
       "    }\n",
       "</style>\n",
       "<table border=\"1\" class=\"dataframe\">\n",
       "  <thead>\n",
       "    <tr style=\"text-align: right;\">\n",
       "      <th></th>\n",
       "      <th>carat</th>\n",
       "      <th>x</th>\n",
       "      <th>y</th>\n",
       "      <th>z</th>\n",
       "      <th>price</th>\n",
       "    </tr>\n",
       "  </thead>\n",
       "  <tbody>\n",
       "    <tr>\n",
       "      <th>0</th>\n",
       "      <td>-0.143474</td>\n",
       "      <td>0.168226</td>\n",
       "      <td>0.126436</td>\n",
       "      <td>-0.111555</td>\n",
       "      <td>3002.0</td>\n",
       "    </tr>\n",
       "    <tr>\n",
       "      <th>1</th>\n",
       "      <td>0.618050</td>\n",
       "      <td>0.828666</td>\n",
       "      <td>0.841599</td>\n",
       "      <td>0.680407</td>\n",
       "      <td>5845.0</td>\n",
       "    </tr>\n",
       "    <tr>\n",
       "      <th>2</th>\n",
       "      <td>0.554590</td>\n",
       "      <td>0.748342</td>\n",
       "      <td>0.658447</td>\n",
       "      <td>0.680407</td>\n",
       "      <td>2968.0</td>\n",
       "    </tr>\n",
       "    <tr>\n",
       "      <th>3</th>\n",
       "      <td>-1.010766</td>\n",
       "      <td>-1.152654</td>\n",
       "      <td>-1.112018</td>\n",
       "      <td>-1.172217</td>\n",
       "      <td>800.0</td>\n",
       "    </tr>\n",
       "    <tr>\n",
       "      <th>4</th>\n",
       "      <td>-0.841539</td>\n",
       "      <td>-0.920607</td>\n",
       "      <td>-0.867816</td>\n",
       "      <td>-0.861090</td>\n",
       "      <td>579.0</td>\n",
       "    </tr>\n",
       "    <tr>\n",
       "      <th>...</th>\n",
       "      <td>...</td>\n",
       "      <td>...</td>\n",
       "      <td>...</td>\n",
       "      <td>...</td>\n",
       "      <td>...</td>\n",
       "    </tr>\n",
       "    <tr>\n",
       "      <th>31336</th>\n",
       "      <td>1.168040</td>\n",
       "      <td>1.194585</td>\n",
       "      <td>1.207902</td>\n",
       "      <td>1.104672</td>\n",
       "      <td>5546.0</td>\n",
       "    </tr>\n",
       "    <tr>\n",
       "      <th>31337</th>\n",
       "      <td>-0.206935</td>\n",
       "      <td>-0.001347</td>\n",
       "      <td>-0.030551</td>\n",
       "      <td>0.044009</td>\n",
       "      <td>2751.0</td>\n",
       "    </tr>\n",
       "    <tr>\n",
       "      <th>31338</th>\n",
       "      <td>-0.503083</td>\n",
       "      <td>-0.394041</td>\n",
       "      <td>-0.370690</td>\n",
       "      <td>-0.450967</td>\n",
       "      <td>1723.0</td>\n",
       "    </tr>\n",
       "    <tr>\n",
       "      <th>31339</th>\n",
       "      <td>-0.122321</td>\n",
       "      <td>0.007578</td>\n",
       "      <td>0.021778</td>\n",
       "      <td>0.100578</td>\n",
       "      <td>2906.0</td>\n",
       "    </tr>\n",
       "    <tr>\n",
       "      <th>31340</th>\n",
       "      <td>0.469976</td>\n",
       "      <td>0.623394</td>\n",
       "      <td>0.579954</td>\n",
       "      <td>0.708691</td>\n",
       "      <td>7797.0</td>\n",
       "    </tr>\n",
       "  </tbody>\n",
       "</table>\n",
       "<p>31341 rows × 5 columns</p>\n",
       "</div>"
      ],
      "text/plain": [
       "          carat         x         y         z   price\n",
       "0     -0.143474  0.168226  0.126436 -0.111555  3002.0\n",
       "1      0.618050  0.828666  0.841599  0.680407  5845.0\n",
       "2      0.554590  0.748342  0.658447  0.680407  2968.0\n",
       "3     -1.010766 -1.152654 -1.112018 -1.172217   800.0\n",
       "4     -0.841539 -0.920607 -0.867816 -0.861090   579.0\n",
       "...         ...       ...       ...       ...     ...\n",
       "31336  1.168040  1.194585  1.207902  1.104672  5546.0\n",
       "31337 -0.206935 -0.001347 -0.030551  0.044009  2751.0\n",
       "31338 -0.503083 -0.394041 -0.370690 -0.450967  1723.0\n",
       "31339 -0.122321  0.007578  0.021778  0.100578  2906.0\n",
       "31340  0.469976  0.623394  0.579954  0.708691  7797.0\n",
       "\n",
       "[31341 rows x 5 columns]"
      ]
     },
     "execution_count": 3,
     "metadata": {},
     "output_type": "execute_result"
    }
   ],
   "source": [
    "path = \"../daimonds_HW1_train.csv\"\n",
    "data = pd.read_csv(path).drop([\"Unnamed: 0\"],axis=1)\n",
    "data = reorder(data)\n",
    "data"
   ]
  },
  {
   "cell_type": "code",
   "execution_count": 4,
   "id": "9859da8e",
   "metadata": {},
   "outputs": [],
   "source": [
    "#隨即取出1/10資料\n",
    "data_random_select_3000 = data.sample(n=3000)\n",
    "data_random_select_3000=data_random_select_3000.set_index(pd.Index([i for i in range(3000)]))"
   ]
  },
  {
   "cell_type": "code",
   "execution_count": 5,
   "id": "ebb6490d",
   "metadata": {},
   "outputs": [
    {
     "data": {
      "text/html": [
       "<div>\n",
       "<style scoped>\n",
       "    .dataframe tbody tr th:only-of-type {\n",
       "        vertical-align: middle;\n",
       "    }\n",
       "\n",
       "    .dataframe tbody tr th {\n",
       "        vertical-align: top;\n",
       "    }\n",
       "\n",
       "    .dataframe thead th {\n",
       "        text-align: right;\n",
       "    }\n",
       "</style>\n",
       "<table border=\"1\" class=\"dataframe\">\n",
       "  <thead>\n",
       "    <tr style=\"text-align: right;\">\n",
       "      <th></th>\n",
       "      <th>carat</th>\n",
       "      <th>x</th>\n",
       "      <th>y</th>\n",
       "      <th>z</th>\n",
       "      <th>price</th>\n",
       "    </tr>\n",
       "  </thead>\n",
       "  <tbody>\n",
       "    <tr>\n",
       "      <th>0</th>\n",
       "      <td>0.914199</td>\n",
       "      <td>1.025013</td>\n",
       "      <td>0.963700</td>\n",
       "      <td>0.991534</td>\n",
       "      <td>8381.0</td>\n",
       "    </tr>\n",
       "    <tr>\n",
       "      <th>1</th>\n",
       "      <td>-0.101167</td>\n",
       "      <td>0.078977</td>\n",
       "      <td>0.126436</td>\n",
       "      <td>0.128862</td>\n",
       "      <td>2500.0</td>\n",
       "    </tr>\n",
       "    <tr>\n",
       "      <th>2</th>\n",
       "      <td>-0.904999</td>\n",
       "      <td>-1.009856</td>\n",
       "      <td>-0.955031</td>\n",
       "      <td>-1.002511</td>\n",
       "      <td>649.0</td>\n",
       "    </tr>\n",
       "    <tr>\n",
       "      <th>3</th>\n",
       "      <td>-0.524237</td>\n",
       "      <td>-0.411890</td>\n",
       "      <td>-0.449183</td>\n",
       "      <td>-0.422683</td>\n",
       "      <td>1415.0</td>\n",
       "    </tr>\n",
       "    <tr>\n",
       "      <th>4</th>\n",
       "      <td>-1.053073</td>\n",
       "      <td>-1.268677</td>\n",
       "      <td>-1.225397</td>\n",
       "      <td>-1.242928</td>\n",
       "      <td>658.0</td>\n",
       "    </tr>\n",
       "    <tr>\n",
       "      <th>...</th>\n",
       "      <td>...</td>\n",
       "      <td>...</td>\n",
       "      <td>...</td>\n",
       "      <td>...</td>\n",
       "      <td>...</td>\n",
       "    </tr>\n",
       "    <tr>\n",
       "      <th>2995</th>\n",
       "      <td>-0.587697</td>\n",
       "      <td>-0.447590</td>\n",
       "      <td>-0.475348</td>\n",
       "      <td>-0.578246</td>\n",
       "      <td>1806.0</td>\n",
       "    </tr>\n",
       "    <tr>\n",
       "      <th>2996</th>\n",
       "      <td>2.564168</td>\n",
       "      <td>2.060297</td>\n",
       "      <td>2.062610</td>\n",
       "      <td>2.066339</td>\n",
       "      <td>17024.0</td>\n",
       "    </tr>\n",
       "    <tr>\n",
       "      <th>2997</th>\n",
       "      <td>-0.206935</td>\n",
       "      <td>0.034353</td>\n",
       "      <td>0.047942</td>\n",
       "      <td>-0.168124</td>\n",
       "      <td>2453.0</td>\n",
       "    </tr>\n",
       "    <tr>\n",
       "      <th>2998</th>\n",
       "      <td>-0.820385</td>\n",
       "      <td>-0.902758</td>\n",
       "      <td>-0.841651</td>\n",
       "      <td>-0.762095</td>\n",
       "      <td>738.0</td>\n",
       "    </tr>\n",
       "    <tr>\n",
       "      <th>2999</th>\n",
       "      <td>-0.185781</td>\n",
       "      <td>-0.037046</td>\n",
       "      <td>-0.004387</td>\n",
       "      <td>0.029867</td>\n",
       "      <td>2326.0</td>\n",
       "    </tr>\n",
       "  </tbody>\n",
       "</table>\n",
       "<p>3000 rows × 5 columns</p>\n",
       "</div>"
      ],
      "text/plain": [
       "         carat         x         y         z    price\n",
       "0     0.914199  1.025013  0.963700  0.991534   8381.0\n",
       "1    -0.101167  0.078977  0.126436  0.128862   2500.0\n",
       "2    -0.904999 -1.009856 -0.955031 -1.002511    649.0\n",
       "3    -0.524237 -0.411890 -0.449183 -0.422683   1415.0\n",
       "4    -1.053073 -1.268677 -1.225397 -1.242928    658.0\n",
       "...        ...       ...       ...       ...      ...\n",
       "2995 -0.587697 -0.447590 -0.475348 -0.578246   1806.0\n",
       "2996  2.564168  2.060297  2.062610  2.066339  17024.0\n",
       "2997 -0.206935  0.034353  0.047942 -0.168124   2453.0\n",
       "2998 -0.820385 -0.902758 -0.841651 -0.762095    738.0\n",
       "2999 -0.185781 -0.037046 -0.004387  0.029867   2326.0\n",
       "\n",
       "[3000 rows x 5 columns]"
      ]
     },
     "execution_count": 5,
     "metadata": {},
     "output_type": "execute_result"
    }
   ],
   "source": [
    "# data_without_label = data_random_select_3000.drop([\"price\"],axis=1)\n",
    "# data_without_label = data_without_label\n",
    "# data_without_label\n",
    "data_without_label = data_random_select_3000\n",
    "data_without_label"
   ]
  },
  {
   "cell_type": "markdown",
   "id": "2956bbdd",
   "metadata": {},
   "source": [
    "# Use kmeans to get the membership function"
   ]
  },
  {
   "cell_type": "code",
   "execution_count": 6,
   "id": "38721abb",
   "metadata": {
    "scrolled": true
   },
   "outputs": [
    {
     "data": {
      "text/html": [
       "<div>\n",
       "<style scoped>\n",
       "    .dataframe tbody tr th:only-of-type {\n",
       "        vertical-align: middle;\n",
       "    }\n",
       "\n",
       "    .dataframe tbody tr th {\n",
       "        vertical-align: top;\n",
       "    }\n",
       "\n",
       "    .dataframe thead th {\n",
       "        text-align: right;\n",
       "    }\n",
       "</style>\n",
       "<table border=\"1\" class=\"dataframe\">\n",
       "  <thead>\n",
       "    <tr style=\"text-align: right;\">\n",
       "      <th></th>\n",
       "      <th>predict</th>\n",
       "    </tr>\n",
       "  </thead>\n",
       "  <tbody>\n",
       "    <tr>\n",
       "      <th>0</th>\n",
       "      <td>1</td>\n",
       "    </tr>\n",
       "    <tr>\n",
       "      <th>1</th>\n",
       "      <td>0</td>\n",
       "    </tr>\n",
       "    <tr>\n",
       "      <th>2</th>\n",
       "      <td>0</td>\n",
       "    </tr>\n",
       "    <tr>\n",
       "      <th>3</th>\n",
       "      <td>0</td>\n",
       "    </tr>\n",
       "    <tr>\n",
       "      <th>4</th>\n",
       "      <td>0</td>\n",
       "    </tr>\n",
       "    <tr>\n",
       "      <th>...</th>\n",
       "      <td>...</td>\n",
       "    </tr>\n",
       "    <tr>\n",
       "      <th>2995</th>\n",
       "      <td>0</td>\n",
       "    </tr>\n",
       "    <tr>\n",
       "      <th>2996</th>\n",
       "      <td>1</td>\n",
       "    </tr>\n",
       "    <tr>\n",
       "      <th>2997</th>\n",
       "      <td>0</td>\n",
       "    </tr>\n",
       "    <tr>\n",
       "      <th>2998</th>\n",
       "      <td>0</td>\n",
       "    </tr>\n",
       "    <tr>\n",
       "      <th>2999</th>\n",
       "      <td>0</td>\n",
       "    </tr>\n",
       "  </tbody>\n",
       "</table>\n",
       "<p>3000 rows × 1 columns</p>\n",
       "</div>"
      ],
      "text/plain": [
       "      predict\n",
       "0           1\n",
       "1           0\n",
       "2           0\n",
       "3           0\n",
       "4           0\n",
       "...       ...\n",
       "2995        0\n",
       "2996        1\n",
       "2997        0\n",
       "2998        0\n",
       "2999        0\n",
       "\n",
       "[3000 rows x 1 columns]"
      ]
     },
     "execution_count": 6,
     "metadata": {},
     "output_type": "execute_result"
    }
   ],
   "source": [
    "kmeans_fit = cluster.KMeans(n_clusters = 2 ).fit(data_without_label)\n",
    "cluster_labels = kmeans_fit.labels_\n",
    "cluster_labels = pd.DataFrame(cluster_labels, columns = ['predict'])\n",
    "cluster_labels"
   ]
  },
  {
   "cell_type": "code",
   "execution_count": 7,
   "id": "ac605073",
   "metadata": {},
   "outputs": [],
   "source": [
    "\n",
    "cluster1_index = cluster_labels[\"predict\"]==1\n",
    "cluster2_index = cluster_labels[\"predict\"]==0"
   ]
  },
  {
   "cell_type": "code",
   "execution_count": 8,
   "id": "11d61106",
   "metadata": {},
   "outputs": [
    {
     "data": {
      "text/plain": [
       "564.0"
      ]
     },
     "execution_count": 8,
     "metadata": {},
     "output_type": "execute_result"
    }
   ],
   "source": [
    "np.array(cluster_labels[\"predict\"]==1, dtype=float).sum()"
   ]
  },
  {
   "cell_type": "code",
   "execution_count": 9,
   "id": "3d91157c",
   "metadata": {
    "scrolled": false
   },
   "outputs": [
    {
     "data": {
      "text/plain": [
       "0       False\n",
       "1        True\n",
       "2        True\n",
       "3        True\n",
       "4        True\n",
       "        ...  \n",
       "2995     True\n",
       "2996    False\n",
       "2997     True\n",
       "2998     True\n",
       "2999     True\n",
       "Name: predict, Length: 3000, dtype: bool"
      ]
     },
     "execution_count": 9,
     "metadata": {},
     "output_type": "execute_result"
    }
   ],
   "source": [
    "cluster2_index"
   ]
  },
  {
   "cell_type": "code",
   "execution_count": 10,
   "id": "850bbf90",
   "metadata": {},
   "outputs": [
    {
     "data": {
      "text/html": [
       "<div>\n",
       "<style scoped>\n",
       "    .dataframe tbody tr th:only-of-type {\n",
       "        vertical-align: middle;\n",
       "    }\n",
       "\n",
       "    .dataframe tbody tr th {\n",
       "        vertical-align: top;\n",
       "    }\n",
       "\n",
       "    .dataframe thead th {\n",
       "        text-align: right;\n",
       "    }\n",
       "</style>\n",
       "<table border=\"1\" class=\"dataframe\">\n",
       "  <thead>\n",
       "    <tr style=\"text-align: right;\">\n",
       "      <th></th>\n",
       "      <th>carat</th>\n",
       "      <th>x</th>\n",
       "      <th>y</th>\n",
       "      <th>z</th>\n",
       "      <th>price</th>\n",
       "    </tr>\n",
       "  </thead>\n",
       "  <tbody>\n",
       "    <tr>\n",
       "      <th>1</th>\n",
       "      <td>-0.101167</td>\n",
       "      <td>0.078977</td>\n",
       "      <td>0.126436</td>\n",
       "      <td>0.128862</td>\n",
       "      <td>2500.0</td>\n",
       "    </tr>\n",
       "    <tr>\n",
       "      <th>2</th>\n",
       "      <td>-0.904999</td>\n",
       "      <td>-1.009856</td>\n",
       "      <td>-0.955031</td>\n",
       "      <td>-1.002511</td>\n",
       "      <td>649.0</td>\n",
       "    </tr>\n",
       "    <tr>\n",
       "      <th>3</th>\n",
       "      <td>-0.524237</td>\n",
       "      <td>-0.411890</td>\n",
       "      <td>-0.449183</td>\n",
       "      <td>-0.422683</td>\n",
       "      <td>1415.0</td>\n",
       "    </tr>\n",
       "    <tr>\n",
       "      <th>4</th>\n",
       "      <td>-1.053073</td>\n",
       "      <td>-1.268677</td>\n",
       "      <td>-1.225397</td>\n",
       "      <td>-1.242928</td>\n",
       "      <td>658.0</td>\n",
       "    </tr>\n",
       "    <tr>\n",
       "      <th>5</th>\n",
       "      <td>0.448823</td>\n",
       "      <td>0.748342</td>\n",
       "      <td>0.771827</td>\n",
       "      <td>0.482416</td>\n",
       "      <td>4166.0</td>\n",
       "    </tr>\n",
       "    <tr>\n",
       "      <th>...</th>\n",
       "      <td>...</td>\n",
       "      <td>...</td>\n",
       "      <td>...</td>\n",
       "      <td>...</td>\n",
       "      <td>...</td>\n",
       "    </tr>\n",
       "    <tr>\n",
       "      <th>2994</th>\n",
       "      <td>-0.566544</td>\n",
       "      <td>-0.420815</td>\n",
       "      <td>-0.440462</td>\n",
       "      <td>-0.479251</td>\n",
       "      <td>1727.0</td>\n",
       "    </tr>\n",
       "    <tr>\n",
       "      <th>2995</th>\n",
       "      <td>-0.587697</td>\n",
       "      <td>-0.447590</td>\n",
       "      <td>-0.475348</td>\n",
       "      <td>-0.578246</td>\n",
       "      <td>1806.0</td>\n",
       "    </tr>\n",
       "    <tr>\n",
       "      <th>2997</th>\n",
       "      <td>-0.206935</td>\n",
       "      <td>0.034353</td>\n",
       "      <td>0.047942</td>\n",
       "      <td>-0.168124</td>\n",
       "      <td>2453.0</td>\n",
       "    </tr>\n",
       "    <tr>\n",
       "      <th>2998</th>\n",
       "      <td>-0.820385</td>\n",
       "      <td>-0.902758</td>\n",
       "      <td>-0.841651</td>\n",
       "      <td>-0.762095</td>\n",
       "      <td>738.0</td>\n",
       "    </tr>\n",
       "    <tr>\n",
       "      <th>2999</th>\n",
       "      <td>-0.185781</td>\n",
       "      <td>-0.037046</td>\n",
       "      <td>-0.004387</td>\n",
       "      <td>0.029867</td>\n",
       "      <td>2326.0</td>\n",
       "    </tr>\n",
       "  </tbody>\n",
       "</table>\n",
       "<p>2436 rows × 5 columns</p>\n",
       "</div>"
      ],
      "text/plain": [
       "         carat         x         y         z   price\n",
       "1    -0.101167  0.078977  0.126436  0.128862  2500.0\n",
       "2    -0.904999 -1.009856 -0.955031 -1.002511   649.0\n",
       "3    -0.524237 -0.411890 -0.449183 -0.422683  1415.0\n",
       "4    -1.053073 -1.268677 -1.225397 -1.242928   658.0\n",
       "5     0.448823  0.748342  0.771827  0.482416  4166.0\n",
       "...        ...       ...       ...       ...     ...\n",
       "2994 -0.566544 -0.420815 -0.440462 -0.479251  1727.0\n",
       "2995 -0.587697 -0.447590 -0.475348 -0.578246  1806.0\n",
       "2997 -0.206935  0.034353  0.047942 -0.168124  2453.0\n",
       "2998 -0.820385 -0.902758 -0.841651 -0.762095   738.0\n",
       "2999 -0.185781 -0.037046 -0.004387  0.029867  2326.0\n",
       "\n",
       "[2436 rows x 5 columns]"
      ]
     },
     "execution_count": 10,
     "metadata": {},
     "output_type": "execute_result"
    }
   ],
   "source": [
    "cluster1_data = data_random_select_3000[cluster2_index]\n",
    "cluster1_data "
   ]
  },
  {
   "cell_type": "code",
   "execution_count": 11,
   "id": "9346a2dc",
   "metadata": {},
   "outputs": [
    {
     "data": {
      "text/html": [
       "<div>\n",
       "<style scoped>\n",
       "    .dataframe tbody tr th:only-of-type {\n",
       "        vertical-align: middle;\n",
       "    }\n",
       "\n",
       "    .dataframe tbody tr th {\n",
       "        vertical-align: top;\n",
       "    }\n",
       "\n",
       "    .dataframe thead th {\n",
       "        text-align: right;\n",
       "    }\n",
       "</style>\n",
       "<table border=\"1\" class=\"dataframe\">\n",
       "  <thead>\n",
       "    <tr style=\"text-align: right;\">\n",
       "      <th></th>\n",
       "      <th>carat</th>\n",
       "      <th>x</th>\n",
       "      <th>y</th>\n",
       "      <th>z</th>\n",
       "      <th>price</th>\n",
       "    </tr>\n",
       "  </thead>\n",
       "  <tbody>\n",
       "    <tr>\n",
       "      <th>1</th>\n",
       "      <td>-0.101167</td>\n",
       "      <td>0.078977</td>\n",
       "      <td>0.126436</td>\n",
       "      <td>0.128862</td>\n",
       "      <td>2500.0</td>\n",
       "    </tr>\n",
       "    <tr>\n",
       "      <th>2</th>\n",
       "      <td>-0.904999</td>\n",
       "      <td>-1.009856</td>\n",
       "      <td>-0.955031</td>\n",
       "      <td>-1.002511</td>\n",
       "      <td>649.0</td>\n",
       "    </tr>\n",
       "    <tr>\n",
       "      <th>3</th>\n",
       "      <td>-0.524237</td>\n",
       "      <td>-0.411890</td>\n",
       "      <td>-0.449183</td>\n",
       "      <td>-0.422683</td>\n",
       "      <td>1415.0</td>\n",
       "    </tr>\n",
       "    <tr>\n",
       "      <th>4</th>\n",
       "      <td>-1.053073</td>\n",
       "      <td>-1.268677</td>\n",
       "      <td>-1.225397</td>\n",
       "      <td>-1.242928</td>\n",
       "      <td>658.0</td>\n",
       "    </tr>\n",
       "    <tr>\n",
       "      <th>5</th>\n",
       "      <td>0.448823</td>\n",
       "      <td>0.748342</td>\n",
       "      <td>0.771827</td>\n",
       "      <td>0.482416</td>\n",
       "      <td>4166.0</td>\n",
       "    </tr>\n",
       "    <tr>\n",
       "      <th>...</th>\n",
       "      <td>...</td>\n",
       "      <td>...</td>\n",
       "      <td>...</td>\n",
       "      <td>...</td>\n",
       "      <td>...</td>\n",
       "    </tr>\n",
       "    <tr>\n",
       "      <th>2994</th>\n",
       "      <td>-0.566544</td>\n",
       "      <td>-0.420815</td>\n",
       "      <td>-0.440462</td>\n",
       "      <td>-0.479251</td>\n",
       "      <td>1727.0</td>\n",
       "    </tr>\n",
       "    <tr>\n",
       "      <th>2995</th>\n",
       "      <td>-0.587697</td>\n",
       "      <td>-0.447590</td>\n",
       "      <td>-0.475348</td>\n",
       "      <td>-0.578246</td>\n",
       "      <td>1806.0</td>\n",
       "    </tr>\n",
       "    <tr>\n",
       "      <th>2997</th>\n",
       "      <td>-0.206935</td>\n",
       "      <td>0.034353</td>\n",
       "      <td>0.047942</td>\n",
       "      <td>-0.168124</td>\n",
       "      <td>2453.0</td>\n",
       "    </tr>\n",
       "    <tr>\n",
       "      <th>2998</th>\n",
       "      <td>-0.820385</td>\n",
       "      <td>-0.902758</td>\n",
       "      <td>-0.841651</td>\n",
       "      <td>-0.762095</td>\n",
       "      <td>738.0</td>\n",
       "    </tr>\n",
       "    <tr>\n",
       "      <th>2999</th>\n",
       "      <td>-0.185781</td>\n",
       "      <td>-0.037046</td>\n",
       "      <td>-0.004387</td>\n",
       "      <td>0.029867</td>\n",
       "      <td>2326.0</td>\n",
       "    </tr>\n",
       "  </tbody>\n",
       "</table>\n",
       "<p>2436 rows × 5 columns</p>\n",
       "</div>"
      ],
      "text/plain": [
       "         carat         x         y         z   price\n",
       "1    -0.101167  0.078977  0.126436  0.128862  2500.0\n",
       "2    -0.904999 -1.009856 -0.955031 -1.002511   649.0\n",
       "3    -0.524237 -0.411890 -0.449183 -0.422683  1415.0\n",
       "4    -1.053073 -1.268677 -1.225397 -1.242928   658.0\n",
       "5     0.448823  0.748342  0.771827  0.482416  4166.0\n",
       "...        ...       ...       ...       ...     ...\n",
       "2994 -0.566544 -0.420815 -0.440462 -0.479251  1727.0\n",
       "2995 -0.587697 -0.447590 -0.475348 -0.578246  1806.0\n",
       "2997 -0.206935  0.034353  0.047942 -0.168124  2453.0\n",
       "2998 -0.820385 -0.902758 -0.841651 -0.762095   738.0\n",
       "2999 -0.185781 -0.037046 -0.004387  0.029867  2326.0\n",
       "\n",
       "[2436 rows x 5 columns]"
      ]
     },
     "execution_count": 11,
     "metadata": {},
     "output_type": "execute_result"
    }
   ],
   "source": [
    "cluster2_data = data_random_select_3000[cluster2_index]\n",
    "cluster2_data"
   ]
  },
  {
   "cell_type": "code",
   "execution_count": 12,
   "id": "16b33d02",
   "metadata": {},
   "outputs": [],
   "source": [
    "cluster1_mean = cluster1_data.mean()\n",
    "cluster2_mean = cluster2_data.mean()\n",
    "cluster1_std = cluster1_data.std()\n",
    "cluster2_std = cluster2_data.std()\n",
    "\n",
    "\n",
    "ship = {\"c1mean\":cluster1_mean, \"c2mean\":cluster2_mean, \"c1_std\":cluster1_std, \"c2_std\":cluster2_std}"
   ]
  },
  {
   "cell_type": "code",
   "execution_count": 13,
   "id": "9601fe75",
   "metadata": {},
   "outputs": [
    {
     "name": "stdout",
     "output_type": "stream",
     "text": [
      "{'c1mean': carat      -0.349833\n",
      "x          -0.323037\n",
      "y          -0.317133\n",
      "z          -0.313661\n",
      "price    2322.174877\n",
      "dtype: float64, 'c2mean': carat      -0.349833\n",
      "x          -0.323037\n",
      "y          -0.317133\n",
      "z          -0.313661\n",
      "price    2322.174877\n",
      "dtype: float64, 'c1_std': carat       0.639762\n",
      "x           0.769977\n",
      "y           0.744834\n",
      "z           0.759905\n",
      "price    1721.938067\n",
      "dtype: float64, 'c2_std': carat       0.639762\n",
      "x           0.769977\n",
      "y           0.744834\n",
      "z           0.759905\n",
      "price    1721.938067\n",
      "dtype: float64}\n"
     ]
    }
   ],
   "source": [
    "print(ship)"
   ]
  },
  {
   "cell_type": "markdown",
   "id": "59f37aa6",
   "metadata": {},
   "source": [
    "# use anfis"
   ]
  },
  {
   "cell_type": "code",
   "execution_count": 14,
   "id": "3126f650",
   "metadata": {},
   "outputs": [],
   "source": [
    "import anfis\n",
    "from anfis import predict \n",
    "import membership.mfDerivs\n",
    "import membership.membershipfunction\n",
    "from sklearn.metrics import classification_report"
   ]
  },
  {
   "cell_type": "markdown",
   "id": "c020f7ab",
   "metadata": {},
   "source": [
    "# test/train"
   ]
  },
  {
   "cell_type": "code",
   "execution_count": 15,
   "id": "88afe011",
   "metadata": {},
   "outputs": [],
   "source": [
    "path = \"../daimonds_HW1_test.csv\"\n",
    "test_data = pd.read_csv(path).drop([\"Unnamed: 0\"],axis=1)\n",
    "test = reorder(test_data)\n",
    "test = shuffle(test)\n",
    "test_select_1000=np.array(test.sample(1000))\n",
    "X_test, y_test = test_select_1000[:, 0:4], test_select_1000[:, 4]\n",
    "\n",
    "train = np.array(data_random_select_3000)\n",
    "train = shuffle(train)\n",
    "X, Y = train[:, 0:4], train[:, 4]"
   ]
  },
  {
   "cell_type": "code",
   "execution_count": 16,
   "id": "1e993be5",
   "metadata": {},
   "outputs": [],
   "source": [
    "mf = [\n",
    "        [['gaussmf',{'mean':ship[\"c1mean\"][0],'sigma':ship[\"c1_std\"][0]}],['gaussmf',{'mean':ship[\"c2mean\"][0],'sigma': ship[\"c2_std\"][0]}]],\n",
    "        [['gaussmf',{'mean':ship[\"c1mean\"][1],'sigma':ship[\"c1_std\"][1]}],['gaussmf',{'mean':ship[\"c2mean\"][1],'sigma': ship[\"c2_std\"][1]}]],\n",
    "        [['gaussmf',{'mean':ship[\"c1mean\"][2],'sigma':ship[\"c1_std\"][2]}],['gaussmf',{'mean':ship[\"c2mean\"][2],'sigma': ship[\"c2_std\"][2]}]],\n",
    "        [['gaussmf',{'mean':ship[\"c1mean\"][3],'sigma':ship[\"c1_std\"][3]}],['gaussmf',{'mean':ship[\"c2mean\"][3],'sigma': ship[\"c2_std\"][3]}]]]"
   ]
  },
  {
   "cell_type": "code",
   "execution_count": 17,
   "id": "d7be3c74",
   "metadata": {},
   "outputs": [
    {
     "name": "stdout",
     "output_type": "stream",
     "text": [
      "current error: 7376993476.197264\n"
     ]
    },
    {
     "name": "stderr",
     "output_type": "stream",
     "text": [
      "C:\\Users\\40638\\OneDrive - 國立陽明交通大學\\桌面\\machine learning\\kmeans-with-anfis\\anfis\\anfis.py:104: RuntimeWarning: divide by zero encountered in double_scalars\n",
      "  eta = k / np.abs(np.sum(t))\n"
     ]
    },
    {
     "name": "stdout",
     "output_type": "stream",
     "text": [
      "current error: 7373471993.118223\n"
     ]
    },
    {
     "data": {
      "text/plain": [
       "array([[1936.82274612],\n",
       "       [5425.77583784],\n",
       "       [9524.23256913],\n",
       "       ...,\n",
       "       [ 966.5107976 ],\n",
       "       [5769.77537967],\n",
       "       [6066.64598929]])"
      ]
     },
     "execution_count": 17,
     "metadata": {},
     "output_type": "execute_result"
    }
   ],
   "source": [
    "EPOCH = 3\n",
    "mfc = membership.membershipfunction.MemFuncs(mf)\n",
    "anf = anfis.ANFIS(X, Y, mfc)\n",
    "anf.trainHybridJangOffLine(epochs=EPOCH)"
   ]
  },
  {
   "cell_type": "code",
   "execution_count": 18,
   "id": "3f199f2f",
   "metadata": {},
   "outputs": [],
   "source": [
    "def prediction(anfis, X):\n",
    "    y_pred = np.squeeze(predict(anf, X), axis=1)\n",
    "    return y_pred"
   ]
  },
  {
   "cell_type": "code",
   "execution_count": 19,
   "id": "fff59932",
   "metadata": {},
   "outputs": [],
   "source": [
    "y_test_pred = prediction(anfis, X_test)\n",
    "y_train_pred = prediction(anfis, X)"
   ]
  },
  {
   "cell_type": "code",
   "execution_count": 24,
   "id": "b721ad16",
   "metadata": {},
   "outputs": [
    {
     "name": "stdout",
     "output_type": "stream",
     "text": [
      "MAPE_train: 0.318197946109387\n",
      "MAPE_test: 0.3110758851443322\n"
     ]
    }
   ],
   "source": [
    "from sklearn.metrics import mean_absolute_percentage_error\n",
    "print(\"MAPE_train:\",mean_absolute_percentage_error(Y, y_train_pred))\n",
    "print(\"MAPE_test:\",mean_absolute_percentage_error(y_test, y_test_pred))"
   ]
  },
  {
   "cell_type": "code",
   "execution_count": 21,
   "id": "57a5e7db",
   "metadata": {
    "scrolled": true
   },
   "outputs": [
    {
     "name": "stdout",
     "output_type": "stream",
     "text": [
      "MSE_train: 2457815.5201271228\n",
      "MSE:_test: 2326047.943400685\n"
     ]
    }
   ],
   "source": [
    "from sklearn.metrics import mean_squared_error\n",
    "print(\"MSE_train:\",mean_squared_error(Y, y_train_pred))\n",
    "print(\"MSE:_test:\",mean_squared_error(y_test, y_test_pred))"
   ]
  },
  {
   "cell_type": "code",
   "execution_count": 22,
   "id": "8ac6c1cb",
   "metadata": {},
   "outputs": [
    {
     "name": "stdout",
     "output_type": "stream",
     "text": [
      "RMSE_train: 1567.7421727207325\n",
      "RMSE_test: 1525.1386636633029\n"
     ]
    }
   ],
   "source": [
    "def rmse(y_true, y_pred):\n",
    "    return np.sqrt(mean_squared_error(y_true, y_pred))\n",
    "print(\"RMSE_train:\",rmse(Y, y_train_pred))\n",
    "print(\"RMSE_test:\",rmse(y_test, y_test_pred))"
   ]
  },
  {
   "cell_type": "code",
   "execution_count": 23,
   "id": "e1aa95d9",
   "metadata": {},
   "outputs": [
    {
     "name": "stdout",
     "output_type": "stream",
     "text": [
      "NRMSE_train: 623.7395161331065\n",
      "NRMSE_test: 591.295034313826\n"
     ]
    }
   ],
   "source": [
    "Y_std=Y.std()\n",
    "y_test_std=y_test.std()\n",
    "def nrmse(y_true, y_pred,std):\n",
    "    return (mean_squared_error(y_true, y_pred))/std\n",
    "print(\"NRMSE_train:\",nrmse(Y, y_train_pred,Y_std))\n",
    "print(\"NRMSE_test:\",nrmse(y_test, y_test_pred,y_test_std))"
   ]
  }
 ],
 "metadata": {
  "kernelspec": {
   "display_name": "Python 3",
   "language": "python",
   "name": "python3"
  },
  "language_info": {
   "codemirror_mode": {
    "name": "ipython",
    "version": 3
   },
   "file_extension": ".py",
   "mimetype": "text/x-python",
   "name": "python",
   "nbconvert_exporter": "python",
   "pygments_lexer": "ipython3",
   "version": "3.8.8"
  }
 },
 "nbformat": 4,
 "nbformat_minor": 5
}
